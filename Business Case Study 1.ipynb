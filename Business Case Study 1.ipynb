{
 "cells": [
  {
   "cell_type": "markdown",
   "metadata": {},
   "source": [
    "# Mandatory Project - Business Case Study By: Vidhyadhar Melam"
   ]
  },
  {
   "cell_type": "markdown",
   "metadata": {},
   "source": [
    "## Question 1: \n",
    "You are provided data for sales of Progresso soup in the U.S. The data are derived from\n",
    "approximately 2000 supermarkets across the country and span 6 years In the file\n",
    "“Progresso.csv” you are provided with the following variables:\n"
   ]
  },
  {
   "cell_type": "markdown",
   "metadata": {},
   "source": [
    "### Questions:\n",
    "1. Create a dummy variable for “Winter” months defined as Oct, Nov, Dec, Jan & Feb and answer the following:\n",
    "     \n",
    "     a. What patterns are you seeing in the data? \n",
    "     \n",
    "     b. What patterns are you seeing in sales during the Winter months?\n",
    "     \n",
    "     c. Compute the “Market Share” for Progresso (as percentage of total sales) in the Winter vs. non-Winter months\n",
    "     \n",
    "2. Develop a linear regression model to predict Progresso sales. Explain the results of the regression model (model strength, variable importance, relationship between the predictors and the dependent variable)."
   ]
  },
  {
   "cell_type": "code",
   "execution_count": 1,
   "metadata": {},
   "outputs": [],
   "source": [
    "DF = read.csv(\"C:\\\\Users\\\\Viddi\\\\Desktop\\\\BUSINESS CASE STUDY 1\\\\Datasets\\\\Assignment_1.csv\",na.strings = \"\")"
   ]
  },
  {
   "cell_type": "code",
   "execution_count": 2,
   "metadata": {},
   "outputs": [
    {
     "data": {
      "text/html": [
       "<table>\n",
       "<thead><tr><th scope=col>ï..IRI_KEY</th><th scope=col>Month</th><th scope=col>Region</th><th scope=col>Low_Income</th><th scope=col>High_Income</th><th scope=col>Price.Campbell</th><th scope=col>Price.PL</th><th scope=col>Price.Progresso</th><th scope=col>Sales.Progresso</th><th scope=col>Category_Sales</th></tr></thead>\n",
       "<tbody>\n",
       "\t<tr><td>289854    </td><td>12        </td><td>South     </td><td>0         </td><td>0         </td><td>1.494     </td><td>1.102     </td><td>1.718     </td><td> 921.716  </td><td> 5663.5959</td></tr>\n",
       "\t<tr><td>534863    </td><td> 2        </td><td>MidWest   </td><td>0         </td><td>1         </td><td>1.594     </td><td>1.053     </td><td>1.306     </td><td>1309.433  </td><td> 3700.0734</td></tr>\n",
       "\t<tr><td>683960    </td><td>12        </td><td>South     </td><td>0         </td><td>1         </td><td>1.445     </td><td>0.906     </td><td>1.700     </td><td> 911.686  </td><td>10253.6026</td></tr>\n",
       "\t<tr><td>257658    </td><td> 6        </td><td>MidWest   </td><td>0         </td><td>0         </td><td>1.670     </td><td>1.169     </td><td>2.051     </td><td>  18.844  </td><td>  806.6891</td></tr>\n",
       "\t<tr><td>210202    </td><td> 2        </td><td>South     </td><td>1         </td><td>0         </td><td>1.278     </td><td>0.833     </td><td>1.692     </td><td> 142.470  </td><td> 2837.7123</td></tr>\n",
       "\t<tr><td>534005    </td><td>12        </td><td>South     </td><td>1         </td><td>0         </td><td>1.294     </td><td>0.982     </td><td>1.654     </td><td> 323.972  </td><td> 3717.7864</td></tr>\n",
       "</tbody>\n",
       "</table>\n"
      ],
      "text/latex": [
       "\\begin{tabular}{r|llllllllll}\n",
       " ï..IRI\\_KEY & Month & Region & Low\\_Income & High\\_Income & Price.Campbell & Price.PL & Price.Progresso & Sales.Progresso & Category\\_Sales\\\\\n",
       "\\hline\n",
       "\t 289854     & 12         & South      & 0          & 0          & 1.494      & 1.102      & 1.718      &  921.716   &  5663.5959\\\\\n",
       "\t 534863     &  2         & MidWest    & 0          & 1          & 1.594      & 1.053      & 1.306      & 1309.433   &  3700.0734\\\\\n",
       "\t 683960     & 12         & South      & 0          & 1          & 1.445      & 0.906      & 1.700      &  911.686   & 10253.6026\\\\\n",
       "\t 257658     &  6         & MidWest    & 0          & 0          & 1.670      & 1.169      & 2.051      &   18.844   &   806.6891\\\\\n",
       "\t 210202     &  2         & South      & 1          & 0          & 1.278      & 0.833      & 1.692      &  142.470   &  2837.7123\\\\\n",
       "\t 534005     & 12         & South      & 1          & 0          & 1.294      & 0.982      & 1.654      &  323.972   &  3717.7864\\\\\n",
       "\\end{tabular}\n"
      ],
      "text/markdown": [
       "\n",
       "| ï..IRI_KEY | Month | Region | Low_Income | High_Income | Price.Campbell | Price.PL | Price.Progresso | Sales.Progresso | Category_Sales |\n",
       "|---|---|---|---|---|---|---|---|---|---|\n",
       "| 289854     | 12         | South      | 0          | 0          | 1.494      | 1.102      | 1.718      |  921.716   |  5663.5959 |\n",
       "| 534863     |  2         | MidWest    | 0          | 1          | 1.594      | 1.053      | 1.306      | 1309.433   |  3700.0734 |\n",
       "| 683960     | 12         | South      | 0          | 1          | 1.445      | 0.906      | 1.700      |  911.686   | 10253.6026 |\n",
       "| 257658     |  6         | MidWest    | 0          | 0          | 1.670      | 1.169      | 2.051      |   18.844   |   806.6891 |\n",
       "| 210202     |  2         | South      | 1          | 0          | 1.278      | 0.833      | 1.692      |  142.470   |  2837.7123 |\n",
       "| 534005     | 12         | South      | 1          | 0          | 1.294      | 0.982      | 1.654      |  323.972   |  3717.7864 |\n",
       "\n"
      ],
      "text/plain": [
       "  ï..IRI_KEY Month Region  Low_Income High_Income Price.Campbell Price.PL\n",
       "1 289854     12    South   0          0           1.494          1.102   \n",
       "2 534863      2    MidWest 0          1           1.594          1.053   \n",
       "3 683960     12    South   0          1           1.445          0.906   \n",
       "4 257658      6    MidWest 0          0           1.670          1.169   \n",
       "5 210202      2    South   1          0           1.278          0.833   \n",
       "6 534005     12    South   1          0           1.294          0.982   \n",
       "  Price.Progresso Sales.Progresso Category_Sales\n",
       "1 1.718            921.716         5663.5959    \n",
       "2 1.306           1309.433         3700.0734    \n",
       "3 1.700            911.686        10253.6026    \n",
       "4 2.051             18.844          806.6891    \n",
       "5 1.692            142.470         2837.7123    \n",
       "6 1.654            323.972         3717.7864    "
      ]
     },
     "metadata": {},
     "output_type": "display_data"
    }
   ],
   "source": [
    "head(DF)"
   ]
  },
  {
   "cell_type": "markdown",
   "metadata": {},
   "source": [
    "## 1. Create a dummy variable for “Winter” months defined as Oct, Nov, Dec, Jan & Feb and answer the following:\n",
    "     \n",
    "     a. What patterns are you seeing in the data? \n",
    "     \n",
    "     b. What patterns are you seeing in sales during the Winter months?\n",
    "     \n",
    "     c. Compute the “Market Share” for Progresso (as percentage of total sales) in the Winter vs. non-Winter months"
   ]
  },
  {
   "cell_type": "markdown",
   "metadata": {},
   "source": []
  },
  {
   "cell_type": "code",
   "execution_count": 3,
   "metadata": {},
   "outputs": [],
   "source": [
    "for (a in 1:nrow(DF)){\n",
    "    if(DF$Month[a] %in% c(10,11,12,1,2)){\n",
    "        DF$winter[a] = \"1\"\n",
    "    } else{\n",
    "        DF$winter[a] = \"0\"\n",
    "    }\n",
    "}"
   ]
  },
  {
   "cell_type": "markdown",
   "metadata": {},
   "source": [
    "###      a. What patterns are you seeing in the data? \n",
    "     \n",
    "### Solution"
   ]
  },
  {
   "cell_type": "code",
   "execution_count": 4,
   "metadata": {},
   "outputs": [
    {
     "data": {
      "text/html": [
       "<table>\n",
       "<thead><tr><th scope=col>ï..IRI_KEY</th><th scope=col>Month</th><th scope=col>Region</th><th scope=col>Low_Income</th><th scope=col>High_Income</th><th scope=col>Price.Campbell</th><th scope=col>Price.PL</th><th scope=col>Price.Progresso</th><th scope=col>Sales.Progresso</th><th scope=col>Category_Sales</th><th scope=col>winter</th></tr></thead>\n",
       "<tbody>\n",
       "\t<tr><td>289854    </td><td>12        </td><td>South     </td><td>0         </td><td>0         </td><td>1.494     </td><td>1.102     </td><td>1.718     </td><td> 921.716  </td><td> 5663.5959</td><td>1         </td></tr>\n",
       "\t<tr><td>534863    </td><td> 2        </td><td>MidWest   </td><td>0         </td><td>1         </td><td>1.594     </td><td>1.053     </td><td>1.306     </td><td>1309.433  </td><td> 3700.0734</td><td>1         </td></tr>\n",
       "\t<tr><td>683960    </td><td>12        </td><td>South     </td><td>0         </td><td>1         </td><td>1.445     </td><td>0.906     </td><td>1.700     </td><td> 911.686  </td><td>10253.6026</td><td>1         </td></tr>\n",
       "\t<tr><td>257658    </td><td> 6        </td><td>MidWest   </td><td>0         </td><td>0         </td><td>1.670     </td><td>1.169     </td><td>2.051     </td><td>  18.844  </td><td>  806.6891</td><td>0         </td></tr>\n",
       "\t<tr><td>210202    </td><td> 2        </td><td>South     </td><td>1         </td><td>0         </td><td>1.278     </td><td>0.833     </td><td>1.692     </td><td> 142.470  </td><td> 2837.7123</td><td>1         </td></tr>\n",
       "\t<tr><td>534005    </td><td>12        </td><td>South     </td><td>1         </td><td>0         </td><td>1.294     </td><td>0.982     </td><td>1.654     </td><td> 323.972  </td><td> 3717.7864</td><td>1         </td></tr>\n",
       "</tbody>\n",
       "</table>\n"
      ],
      "text/latex": [
       "\\begin{tabular}{r|lllllllllll}\n",
       " ï..IRI\\_KEY & Month & Region & Low\\_Income & High\\_Income & Price.Campbell & Price.PL & Price.Progresso & Sales.Progresso & Category\\_Sales & winter\\\\\n",
       "\\hline\n",
       "\t 289854     & 12         & South      & 0          & 0          & 1.494      & 1.102      & 1.718      &  921.716   &  5663.5959 & 1         \\\\\n",
       "\t 534863     &  2         & MidWest    & 0          & 1          & 1.594      & 1.053      & 1.306      & 1309.433   &  3700.0734 & 1         \\\\\n",
       "\t 683960     & 12         & South      & 0          & 1          & 1.445      & 0.906      & 1.700      &  911.686   & 10253.6026 & 1         \\\\\n",
       "\t 257658     &  6         & MidWest    & 0          & 0          & 1.670      & 1.169      & 2.051      &   18.844   &   806.6891 & 0         \\\\\n",
       "\t 210202     &  2         & South      & 1          & 0          & 1.278      & 0.833      & 1.692      &  142.470   &  2837.7123 & 1         \\\\\n",
       "\t 534005     & 12         & South      & 1          & 0          & 1.294      & 0.982      & 1.654      &  323.972   &  3717.7864 & 1         \\\\\n",
       "\\end{tabular}\n"
      ],
      "text/markdown": [
       "\n",
       "| ï..IRI_KEY | Month | Region | Low_Income | High_Income | Price.Campbell | Price.PL | Price.Progresso | Sales.Progresso | Category_Sales | winter |\n",
       "|---|---|---|---|---|---|---|---|---|---|---|\n",
       "| 289854     | 12         | South      | 0          | 0          | 1.494      | 1.102      | 1.718      |  921.716   |  5663.5959 | 1          |\n",
       "| 534863     |  2         | MidWest    | 0          | 1          | 1.594      | 1.053      | 1.306      | 1309.433   |  3700.0734 | 1          |\n",
       "| 683960     | 12         | South      | 0          | 1          | 1.445      | 0.906      | 1.700      |  911.686   | 10253.6026 | 1          |\n",
       "| 257658     |  6         | MidWest    | 0          | 0          | 1.670      | 1.169      | 2.051      |   18.844   |   806.6891 | 0          |\n",
       "| 210202     |  2         | South      | 1          | 0          | 1.278      | 0.833      | 1.692      |  142.470   |  2837.7123 | 1          |\n",
       "| 534005     | 12         | South      | 1          | 0          | 1.294      | 0.982      | 1.654      |  323.972   |  3717.7864 | 1          |\n",
       "\n"
      ],
      "text/plain": [
       "  ï..IRI_KEY Month Region  Low_Income High_Income Price.Campbell Price.PL\n",
       "1 289854     12    South   0          0           1.494          1.102   \n",
       "2 534863      2    MidWest 0          1           1.594          1.053   \n",
       "3 683960     12    South   0          1           1.445          0.906   \n",
       "4 257658      6    MidWest 0          0           1.670          1.169   \n",
       "5 210202      2    South   1          0           1.278          0.833   \n",
       "6 534005     12    South   1          0           1.294          0.982   \n",
       "  Price.Progresso Sales.Progresso Category_Sales winter\n",
       "1 1.718            921.716         5663.5959     1     \n",
       "2 1.306           1309.433         3700.0734     1     \n",
       "3 1.700            911.686        10253.6026     1     \n",
       "4 2.051             18.844          806.6891     0     \n",
       "5 1.692            142.470         2837.7123     1     \n",
       "6 1.654            323.972         3717.7864     1     "
      ]
     },
     "metadata": {},
     "output_type": "display_data"
    }
   ],
   "source": [
    "head(DF)"
   ]
  },
  {
   "cell_type": "code",
   "execution_count": 5,
   "metadata": {},
   "outputs": [
    {
     "name": "stderr",
     "output_type": "stream",
     "text": [
      "\n",
      "Attaching package: 'dplyr'\n",
      "\n",
      "The following objects are masked from 'package:stats':\n",
      "\n",
      "    filter, lag\n",
      "\n",
      "The following objects are masked from 'package:base':\n",
      "\n",
      "    intersect, setdiff, setequal, union\n",
      "\n"
     ]
    }
   ],
   "source": [
    "library(dplyr)"
   ]
  },
  {
   "cell_type": "code",
   "execution_count": 6,
   "metadata": {},
   "outputs": [],
   "source": [
    "new_DF = DF %>%\n",
    "  group_by(winter,Region) %>%\n",
    "  summarize(n=n(),avg.price.campbell =mean(Price.Campbell),mean.Price.PL= mean(Price.PL),\n",
    "            mean.Price.Progresso=mean(Price.Progresso),total.Sales.Progresso= sum(Sales.Progresso),\n",
    "            category.sale = sum(Category_Sales) )"
   ]
  },
  {
   "cell_type": "code",
   "execution_count": 7,
   "metadata": {},
   "outputs": [
    {
     "data": {
      "text/html": [
       "<table>\n",
       "<thead><tr><th scope=col>winter</th><th scope=col>Region</th><th scope=col>n</th><th scope=col>avg.price.campbell</th><th scope=col>mean.Price.PL</th><th scope=col>mean.Price.Progresso</th><th scope=col>total.Sales.Progresso</th><th scope=col>category.sale</th></tr></thead>\n",
       "<tbody>\n",
       "\t<tr><td>0       </td><td>South   </td><td>11956   </td><td>1.421908</td><td>1.080281</td><td>1.715347</td><td> 4561754</td><td>32435552</td></tr>\n",
       "\t<tr><td>0       </td><td>MidWest </td><td> 6616   </td><td>1.431007</td><td>1.112147</td><td>1.761872</td><td> 5250822</td><td>39869183</td></tr>\n",
       "\t<tr><td>0       </td><td>West    </td><td> 8220   </td><td>1.595095</td><td>1.207617</td><td>1.945594</td><td> 5794553</td><td>30674784</td></tr>\n",
       "\t<tr><td>1       </td><td>South   </td><td> 8625   </td><td>1.314185</td><td>1.037102</td><td>1.505001</td><td> 8631430</td><td>42655277</td></tr>\n",
       "\t<tr><td>1       </td><td>MidWest </td><td> 4622   </td><td>1.319524</td><td>1.052415</td><td>1.530809</td><td> 9391863</td><td>50454976</td></tr>\n",
       "\t<tr><td>1       </td><td>West    </td><td> 6110   </td><td>1.485874</td><td>1.171395</td><td>1.607643</td><td>10583585</td><td>39069926</td></tr>\n",
       "\t<tr><td>0       </td><td>East    </td><td> 7550   </td><td>1.471857</td><td>1.160722</td><td>1.628456</td><td>13109700</td><td>40806340</td></tr>\n",
       "\t<tr><td>1       </td><td>East    </td><td> 5401   </td><td>1.372263</td><td>1.137854</td><td>1.302982</td><td>25630483</td><td>58690714</td></tr>\n",
       "</tbody>\n",
       "</table>\n"
      ],
      "text/latex": [
       "\\begin{tabular}{r|llllllll}\n",
       " winter & Region & n & avg.price.campbell & mean.Price.PL & mean.Price.Progresso & total.Sales.Progresso & category.sale\\\\\n",
       "\\hline\n",
       "\t 0        & South    & 11956    & 1.421908 & 1.080281 & 1.715347 &  4561754 & 32435552\\\\\n",
       "\t 0        & MidWest  &  6616    & 1.431007 & 1.112147 & 1.761872 &  5250822 & 39869183\\\\\n",
       "\t 0        & West     &  8220    & 1.595095 & 1.207617 & 1.945594 &  5794553 & 30674784\\\\\n",
       "\t 1        & South    &  8625    & 1.314185 & 1.037102 & 1.505001 &  8631430 & 42655277\\\\\n",
       "\t 1        & MidWest  &  4622    & 1.319524 & 1.052415 & 1.530809 &  9391863 & 50454976\\\\\n",
       "\t 1        & West     &  6110    & 1.485874 & 1.171395 & 1.607643 & 10583585 & 39069926\\\\\n",
       "\t 0        & East     &  7550    & 1.471857 & 1.160722 & 1.628456 & 13109700 & 40806340\\\\\n",
       "\t 1        & East     &  5401    & 1.372263 & 1.137854 & 1.302982 & 25630483 & 58690714\\\\\n",
       "\\end{tabular}\n"
      ],
      "text/markdown": [
       "\n",
       "| winter | Region | n | avg.price.campbell | mean.Price.PL | mean.Price.Progresso | total.Sales.Progresso | category.sale |\n",
       "|---|---|---|---|---|---|---|---|\n",
       "| 0        | South    | 11956    | 1.421908 | 1.080281 | 1.715347 |  4561754 | 32435552 |\n",
       "| 0        | MidWest  |  6616    | 1.431007 | 1.112147 | 1.761872 |  5250822 | 39869183 |\n",
       "| 0        | West     |  8220    | 1.595095 | 1.207617 | 1.945594 |  5794553 | 30674784 |\n",
       "| 1        | South    |  8625    | 1.314185 | 1.037102 | 1.505001 |  8631430 | 42655277 |\n",
       "| 1        | MidWest  |  4622    | 1.319524 | 1.052415 | 1.530809 |  9391863 | 50454976 |\n",
       "| 1        | West     |  6110    | 1.485874 | 1.171395 | 1.607643 | 10583585 | 39069926 |\n",
       "| 0        | East     |  7550    | 1.471857 | 1.160722 | 1.628456 | 13109700 | 40806340 |\n",
       "| 1        | East     |  5401    | 1.372263 | 1.137854 | 1.302982 | 25630483 | 58690714 |\n",
       "\n"
      ],
      "text/plain": [
       "  winter Region  n     avg.price.campbell mean.Price.PL mean.Price.Progresso\n",
       "1 0      South   11956 1.421908           1.080281      1.715347            \n",
       "2 0      MidWest  6616 1.431007           1.112147      1.761872            \n",
       "3 0      West     8220 1.595095           1.207617      1.945594            \n",
       "4 1      South    8625 1.314185           1.037102      1.505001            \n",
       "5 1      MidWest  4622 1.319524           1.052415      1.530809            \n",
       "6 1      West     6110 1.485874           1.171395      1.607643            \n",
       "7 0      East     7550 1.471857           1.160722      1.628456            \n",
       "8 1      East     5401 1.372263           1.137854      1.302982            \n",
       "  total.Sales.Progresso category.sale\n",
       "1  4561754              32435552     \n",
       "2  5250822              39869183     \n",
       "3  5794553              30674784     \n",
       "4  8631430              42655277     \n",
       "5  9391863              50454976     \n",
       "6 10583585              39069926     \n",
       "7 13109700              40806340     \n",
       "8 25630483              58690714     "
      ]
     },
     "metadata": {},
     "output_type": "display_data"
    }
   ],
   "source": [
    "new_DF[order(new_DF$total.Sales.Progresso),]"
   ]
  },
  {
   "cell_type": "markdown",
   "metadata": {},
   "source": [
    "### b. What patterns are you seeing in sales during the Winter months?\n",
    "### Solution"
   ]
  },
  {
   "cell_type": "code",
   "execution_count": 8,
   "metadata": {},
   "outputs": [
    {
     "name": "stderr",
     "output_type": "stream",
     "text": [
      "Registered S3 methods overwritten by 'ggplot2':\n",
      "  method         from \n",
      "  [.quosures     rlang\n",
      "  c.quosures     rlang\n",
      "  print.quosures rlang\n"
     ]
    }
   ],
   "source": [
    "library(ggplot2)\n",
    "library(scales)"
   ]
  },
  {
   "cell_type": "code",
   "execution_count": 9,
   "metadata": {},
   "outputs": [
    {
     "name": "stderr",
     "output_type": "stream",
     "text": [
      "Warning message:\n",
      "\"Ignoring unknown parameters: binwidth, bins, pad\""
     ]
    },
    {
     "data": {
      "image/png": "[encoded data removed]",
      "text/plain": [
       "plot without title"
      ]
     },
     "metadata": {},
     "output_type": "display_data"
    }
   ],
   "source": [
    "ggplot(data= new_DF, aes(x=winter , y= total.Sales.Progresso, fill= Region)) + \n",
    "    geom_histogram(stat = \"identity\", color = \"Black\") + scale_y_continuous(labels = comma)+\n",
    "    ggtitle(\"The histogram between winter and total sales of Progresso\")"
   ]
  },
  {
   "cell_type": "markdown",
   "metadata": {},
   "source": [
    "> ### Winter has much higher Progresso sales in each region. This could be due to the winter holiday season. "
   ]
  },
  {
   "cell_type": "code",
   "execution_count": 10,
   "metadata": {},
   "outputs": [
    {
     "name": "stderr",
     "output_type": "stream",
     "text": [
      "Warning message:\n",
      "\"Ignoring unknown parameters: binwidth, bins, pad\""
     ]
    },
    {
     "data": {
      "image/png": "[encoded data removed]",
      "text/plain": [
       "plot without title"
      ]
     },
     "metadata": {},
     "output_type": "display_data"
    }
   ],
   "source": [
    "ggplot(data= new_DF, aes(x=winter , y= category.sale, fill= Region)) + \n",
    "    geom_histogram(stat = \"identity\", color = \"Black\") + scale_y_continuous(labels = comma) +\n",
    "    ggtitle(\"Category sale in winter and non-winter months\")"
   ]
  },
  {
   "cell_type": "markdown",
   "metadata": {},
   "source": [
    "> ### Again the same case with category sales, Winter has a higher category sales. This again could be due to the winter holiday season. "
   ]
  },
  {
   "cell_type": "code",
   "execution_count": 11,
   "metadata": {},
   "outputs": [
    {
     "data": {
      "image/png": "[encoded data removed]",
      "text/plain": [
       "plot without title"
      ]
     },
     "metadata": {},
     "output_type": "display_data"
    }
   ],
   "source": [
    "ggplot(data= DF, aes(x=winter , y= DF$Price.Campbell, fill= Region)) + \n",
    "    geom_boxplot(outlier.colour = \"red\") +\n",
    "    ggtitle(\"Distribution of Campbell Price\")\n",
    "    "
   ]
  },
  {
   "cell_type": "markdown",
   "metadata": {},
   "source": [
    "> ### We can also see how the mean price of campbell was low in winter months for all the regions which is intresting."
   ]
  },
  {
   "cell_type": "code",
   "execution_count": 12,
   "metadata": {},
   "outputs": [
    {
     "data": {
      "image/png": "[encoded data removed]",
      "text/plain": [
       "plot without title"
      ]
     },
     "metadata": {},
     "output_type": "display_data"
    }
   ],
   "source": [
    "ggplot(data= DF, aes(x=winter , y= DF$Price.Progresso, fill= Region)) + \n",
    "    geom_boxplot(outlier.colour = \"red\")+\n",
    "    ggtitle(\"Distribution of Progresso Price\")\n",
    "    "
   ]
  },
  {
   "cell_type": "markdown",
   "metadata": {},
   "source": [
    "> ### Again a similar insight, we can see how the mean price of progresso was low in winter months, this time the mean difference is much bigger and so is the difference in the distribution."
   ]
  },
  {
   "cell_type": "markdown",
   "metadata": {},
   "source": [
    "### c. Compute the “Market Share” for Progresso (as percentage of total sales) in the Winter vs. non-Winter months\n",
    "### Solution\n",
    "     "
   ]
  },
  {
   "cell_type": "code",
   "execution_count": 13,
   "metadata": {},
   "outputs": [
    {
     "data": {
      "text/html": [
       "<table>\n",
       "<thead><tr><th scope=col>winter</th><th scope=col>Region</th><th scope=col>n</th><th scope=col>avg.price.campbell</th><th scope=col>mean.Price.PL</th><th scope=col>mean.Price.Progresso</th><th scope=col>total.Sales.Progresso</th><th scope=col>category.sale</th></tr></thead>\n",
       "<tbody>\n",
       "\t<tr><td>0       </td><td>East    </td><td> 7550   </td><td>1.471857</td><td>1.160722</td><td>1.628456</td><td>13109700</td><td>40806340</td></tr>\n",
       "\t<tr><td>0       </td><td>MidWest </td><td> 6616   </td><td>1.431007</td><td>1.112147</td><td>1.761872</td><td> 5250822</td><td>39869183</td></tr>\n",
       "\t<tr><td>0       </td><td>South   </td><td>11956   </td><td>1.421908</td><td>1.080281</td><td>1.715347</td><td> 4561754</td><td>32435552</td></tr>\n",
       "\t<tr><td>0       </td><td>West    </td><td> 8220   </td><td>1.595095</td><td>1.207617</td><td>1.945594</td><td> 5794553</td><td>30674784</td></tr>\n",
       "\t<tr><td>1       </td><td>East    </td><td> 5401   </td><td>1.372263</td><td>1.137854</td><td>1.302982</td><td>25630483</td><td>58690714</td></tr>\n",
       "\t<tr><td>1       </td><td>MidWest </td><td> 4622   </td><td>1.319524</td><td>1.052415</td><td>1.530809</td><td> 9391863</td><td>50454976</td></tr>\n",
       "\t<tr><td>1       </td><td>South   </td><td> 8625   </td><td>1.314185</td><td>1.037102</td><td>1.505001</td><td> 8631430</td><td>42655277</td></tr>\n",
       "\t<tr><td>1       </td><td>West    </td><td> 6110   </td><td>1.485874</td><td>1.171395</td><td>1.607643</td><td>10583585</td><td>39069926</td></tr>\n",
       "</tbody>\n",
       "</table>\n"
      ],
      "text/latex": [
       "\\begin{tabular}{r|llllllll}\n",
       " winter & Region & n & avg.price.campbell & mean.Price.PL & mean.Price.Progresso & total.Sales.Progresso & category.sale\\\\\n",
       "\\hline\n",
       "\t 0        & East     &  7550    & 1.471857 & 1.160722 & 1.628456 & 13109700 & 40806340\\\\\n",
       "\t 0        & MidWest  &  6616    & 1.431007 & 1.112147 & 1.761872 &  5250822 & 39869183\\\\\n",
       "\t 0        & South    & 11956    & 1.421908 & 1.080281 & 1.715347 &  4561754 & 32435552\\\\\n",
       "\t 0        & West     &  8220    & 1.595095 & 1.207617 & 1.945594 &  5794553 & 30674784\\\\\n",
       "\t 1        & East     &  5401    & 1.372263 & 1.137854 & 1.302982 & 25630483 & 58690714\\\\\n",
       "\t 1        & MidWest  &  4622    & 1.319524 & 1.052415 & 1.530809 &  9391863 & 50454976\\\\\n",
       "\t 1        & South    &  8625    & 1.314185 & 1.037102 & 1.505001 &  8631430 & 42655277\\\\\n",
       "\t 1        & West     &  6110    & 1.485874 & 1.171395 & 1.607643 & 10583585 & 39069926\\\\\n",
       "\\end{tabular}\n"
      ],
      "text/markdown": [
       "\n",
       "| winter | Region | n | avg.price.campbell | mean.Price.PL | mean.Price.Progresso | total.Sales.Progresso | category.sale |\n",
       "|---|---|---|---|---|---|---|---|\n",
       "| 0        | East     |  7550    | 1.471857 | 1.160722 | 1.628456 | 13109700 | 40806340 |\n",
       "| 0        | MidWest  |  6616    | 1.431007 | 1.112147 | 1.761872 |  5250822 | 39869183 |\n",
       "| 0        | South    | 11956    | 1.421908 | 1.080281 | 1.715347 |  4561754 | 32435552 |\n",
       "| 0        | West     |  8220    | 1.595095 | 1.207617 | 1.945594 |  5794553 | 30674784 |\n",
       "| 1        | East     |  5401    | 1.372263 | 1.137854 | 1.302982 | 25630483 | 58690714 |\n",
       "| 1        | MidWest  |  4622    | 1.319524 | 1.052415 | 1.530809 |  9391863 | 50454976 |\n",
       "| 1        | South    |  8625    | 1.314185 | 1.037102 | 1.505001 |  8631430 | 42655277 |\n",
       "| 1        | West     |  6110    | 1.485874 | 1.171395 | 1.607643 | 10583585 | 39069926 |\n",
       "\n"
      ],
      "text/plain": [
       "  winter Region  n     avg.price.campbell mean.Price.PL mean.Price.Progresso\n",
       "1 0      East     7550 1.471857           1.160722      1.628456            \n",
       "2 0      MidWest  6616 1.431007           1.112147      1.761872            \n",
       "3 0      South   11956 1.421908           1.080281      1.715347            \n",
       "4 0      West     8220 1.595095           1.207617      1.945594            \n",
       "5 1      East     5401 1.372263           1.137854      1.302982            \n",
       "6 1      MidWest  4622 1.319524           1.052415      1.530809            \n",
       "7 1      South    8625 1.314185           1.037102      1.505001            \n",
       "8 1      West     6110 1.485874           1.171395      1.607643            \n",
       "  total.Sales.Progresso category.sale\n",
       "1 13109700              40806340     \n",
       "2  5250822              39869183     \n",
       "3  4561754              32435552     \n",
       "4  5794553              30674784     \n",
       "5 25630483              58690714     \n",
       "6  9391863              50454976     \n",
       "7  8631430              42655277     \n",
       "8 10583585              39069926     "
      ]
     },
     "metadata": {},
     "output_type": "display_data"
    }
   ],
   "source": [
    "new_DF"
   ]
  },
  {
   "cell_type": "code",
   "execution_count": 14,
   "metadata": {},
   "outputs": [
    {
     "data": {
      "image/png": "[encoded data removed]",
      "text/plain": [
       "Plot with title \"Share of sales in winter months by region\""
      ]
     },
     "metadata": {},
     "output_type": "display_data"
    },
    {
     "data": {
      "image/png": "[encoded data removed]",
      "text/plain": [
       "Plot with title \"Share of sales in Non-winter months by region\""
      ]
     },
     "metadata": {},
     "output_type": "display_data"
    }
   ],
   "source": [
    "slices <- new_DF$total.Sales.Progresso[5:8]\n",
    "lbls <- c(\"East\", \"Midwest\", \"South\", \"West\")\n",
    "pct <- round(slices/sum(slices)*100)\n",
    "lbls <- paste(lbls, pct) # add percents to labels\n",
    "lbls <- paste(lbls,\"%\",sep=\"\") # ad % to labels\n",
    "pie(slices,labels = lbls, col=rainbow(length(lbls)),\n",
    "   main=\"Share of sales in winter months by region\")\n",
    "\n",
    "\n",
    "slices <- new_DF$total.Sales.Progresso[1:4]\n",
    "lbls <- c(\"East\", \"Midwest\", \"South\", \"West\")\n",
    "pct <- round(slices/sum(slices)*100)\n",
    "lbls <- paste(lbls, pct) # add percents to labels\n",
    "lbls <- paste(lbls,\"%\",sep=\"\") # ad % to labels\n",
    "pie(slices,labels = lbls, col=rainbow(length(lbls)),\n",
    "   main=\"Share of sales in Non-winter months by region\")"
   ]
  },
  {
   "cell_type": "code",
   "execution_count": 15,
   "metadata": {},
   "outputs": [],
   "source": [
    "NEW_DF =new_DF %>% group_by(winter) %>% summarise(total.Sales.Progresso= sum(total.Sales.Progresso))"
   ]
  },
  {
   "cell_type": "code",
   "execution_count": 16,
   "metadata": {},
   "outputs": [
    {
     "data": {
      "image/png": "[encoded data removed]",
      "text/plain": [
       "Plot with title \"Share of sales in Non-winter vs Winter\""
      ]
     },
     "metadata": {},
     "output_type": "display_data"
    }
   ],
   "source": [
    "slices <- NEW_DF$total.Sales.Progresso\n",
    "lbls <- c(\"NON_WINTER\", \"WINTER\")\n",
    "pct <- round(slices/sum(slices)*100)\n",
    "lbls <- paste(lbls, pct) # add percents to labels\n",
    "lbls <- paste(lbls,\"%\",sep=\"\") # ad % to labels\n",
    "pie(slices,labels = lbls, col=rainbow(length(lbls)),\n",
    "   main=\"Share of sales in Non-winter vs Winter\")"
   ]
  },
  {
   "cell_type": "markdown",
   "metadata": {},
   "source": [
    "> ### we can see 65% share of winter and 35% of NON winter sales share from the data"
   ]
  },
  {
   "cell_type": "markdown",
   "metadata": {},
   "source": [
    "     \n",
    "### 2. Develop a linear regression model to predict Progresso sales. Explain the results of the regression model (model strength, variable importance, relationship between the predictors and the dependent variable)."
   ]
  },
  {
   "cell_type": "code",
   "execution_count": 17,
   "metadata": {},
   "outputs": [],
   "source": [
    "model_1 = lm(Sales.Progresso~ Month + Region+Low_Income+High_Income+Price.Campbell+Price.PL+Price.Progresso, data = DF)"
   ]
  },
  {
   "cell_type": "code",
   "execution_count": 18,
   "metadata": {},
   "outputs": [
    {
     "data": {
      "text/plain": [
       "\n",
       "Call:\n",
       "lm(formula = Sales.Progresso ~ Month + Region + Low_Income + \n",
       "    High_Income + Price.Campbell + Price.PL + Price.Progresso, \n",
       "    data = DF)\n",
       "\n",
       "Residuals:\n",
       "   Min     1Q Median     3Q    Max \n",
       " -4288   -841   -207    455  49267 \n",
       "\n",
       "Coefficients:\n",
       "                 Estimate Std. Error  t value Pr(>|t|)    \n",
       "(Intercept)      5589.809     59.028   94.698  < 2e-16 ***\n",
       "Month             -13.042      2.051   -6.357 2.07e-10 ***\n",
       "RegionMidWest   -1124.123     22.698  -49.525  < 2e-16 ***\n",
       "RegionSouth     -1804.503     19.857  -90.873  < 2e-16 ***\n",
       "RegionWest      -1061.568     21.714  -48.888  < 2e-16 ***\n",
       "Low_Income       -289.394     18.330  -15.788  < 2e-16 ***\n",
       "High_Income       391.872     18.530   21.148  < 2e-16 ***\n",
       "Price.Campbell    722.886     37.717   19.166  < 2e-16 ***\n",
       "Price.PL          613.540     40.120   15.293  < 2e-16 ***\n",
       "Price.Progresso -2876.283     22.661 -126.928  < 2e-16 ***\n",
       "---\n",
       "Signif. codes:  0 '***' 0.001 '**' 0.01 '*' 0.05 '.' 0.1 ' ' 1\n",
       "\n",
       "Residual standard error: 1704 on 59090 degrees of freedom\n",
       "Multiple R-squared:  0.3646,\tAdjusted R-squared:  0.3645 \n",
       "F-statistic:  3767 on 9 and 59090 DF,  p-value: < 2.2e-16\n"
      ]
     },
     "metadata": {},
     "output_type": "display_data"
    }
   ],
   "source": [
    "summary(model_1)"
   ]
  },
  {
   "cell_type": "code",
   "execution_count": null,
   "metadata": {},
   "outputs": [],
   "source": []
  }
 ],
 "metadata": {
  "kernelspec": {
   "display_name": "Python 3 (ipykernel)",
   "language": "python",
   "name": "python3"
  },
  "language_info": {
   "codemirror_mode": {
    "name": "ipython",
    "version": 3
   },
   "file_extension": ".py",
   "mimetype": "text/x-python",
   "name": "python",
   "nbconvert_exporter": "python",
   "pygments_lexer": "ipython3",
   "version": "3.10.7"
  }
 },
 "nbformat": 4,
 "nbformat_minor": 2
}
